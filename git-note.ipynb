{
 "cells": [
  {
   "cell_type": "markdown",
   "metadata": {},
   "source": [
    "## 分支和协同\n",
    "\n",
    "使用git时要遵循一定的规则，而不是随意乱用，git本身提供了足够的工具来帮助我们实现协同。\n",
    "\n",
    "### 标签（*tag*）和分支（*branch*）\n",
    "\n",
    "tag和branch都是指向commit的指针，区别在于tag指向一个固定的*commit*，而*branch*会随着你的操作始终跟着最新的*commit*。\n",
    "\n",
    "#### 标签（*tag*）\n",
    "\n"
   ]
  }
 ],
 "metadata": {
  "kernelspec": {
   "display_name": "Python 3",
   "language": "python",
   "name": "python3"
  },
  "language_info": {
   "codemirror_mode": {
    "name": "ipython",
    "version": 3
   },
   "file_extension": ".py",
   "mimetype": "text/x-python",
   "name": "python",
   "nbconvert_exporter": "python",
   "pygments_lexer": "ipython3",
   "version": "3.7.6"
  }
 },
 "nbformat": 4,
 "nbformat_minor": 4
}
