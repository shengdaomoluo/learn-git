{
 "cells": [
  {
   "cell_type": "markdown",
   "metadata": {},
   "source": [
    "## 分支和协同\n",
    "\n",
    "使用git时要遵循一定的规则，而不是随意乱用，git本身提供了足够的工具来帮助我们实现协同。\n",
    "\n",
    "### 标签（*tag*）和分支（*branch*）\n",
    "\n",
    "tag和branch都是指向commit的指针，区别在于tag指向一个固定的*commit*，而*branch*会随着你的操作始终跟着最新的*commit*。\n",
    "\n",
    "#### 标签（*tag*）\n",
    "\n",
    "tag一般用于一个固定的commit。使用```git tag```命令处理与tag有关的操作：\n",
    "\n",
    "* ```git tag```显示所有的tag；\n",
    "* ```git tag xxx```为commit创建一个名为xxx的标签（xxx为标签名）。\n",
    "* ```git tag xxx abcdefg```为更早的commit创建一个标签（注：xxx为标签名；abcdefg为commit id）。\n",
    "* ```git tag -d tag_name```命令可以用来删除一个标签，标签名为tag_name.\n",
    "\n",
    "**标签（tag）只能给一个commit打上标记**。\n",
    "\n",
    "#### 分支（*branch*）\n",
    "\n",
    "分支（*branch*）能够帮助我们标记一串*commit*,是并行开发（或者并行创作）的必备工具。\n",
    "\n",
    "在git中，branch和tag一样，都是指向commit的指针，区别在于tag是固定的，而branch是会移动的。\n",
    "\n",
    "每个git版本仓库创建时都会创建一个branch叫**master**，即**主分支**，在我们创建其他branch之前，这个主分支会跟着我们提交的commit走，永远指向最新的一个commit。\n",
    "\n",
    "# GitHub简介\n",
    "\n",
    "[GitHub](https://github.com/)是提供git仓库的托管服务；也就是说，你可以把版本仓库建在GitHub的服务器上，让全世界都能访问到，当然你自己的机器上也会有一份。你可以把你的新作*push*到GitHub，也可以从GitHub上*pull*别人的贡献。\n",
    "\n",
    "GitHub主要有两个实现场景：\n",
    "* 在GitHub上创建一个新的repo，然后后把自己在本地建好的repo放到GitHub新仓库中。这个很简单，在自己的GitHub主页选择“New”，然后按照页面说明一步步走下去就行了。\n",
    "* 把GitHub上已经存在的repo克隆到自己的本地，然后对repo里的内容做一些修改。这个就更简单了，在你准备修改的repo首页按那个绿色的“Clone or download”按钮，拷贝下面文字框里的repo地址，然后在你的命令行界面贴到```git clone```命令后面就OK了。"
   ]
  }
 ],
 "metadata": {
  "kernelspec": {
   "display_name": "Python 3",
   "language": "python",
   "name": "python3"
  },
  "language_info": {
   "codemirror_mode": {
    "name": "ipython",
    "version": 3
   },
   "file_extension": ".py",
   "mimetype": "text/x-python",
   "name": "python",
   "nbconvert_exporter": "python",
   "pygments_lexer": "ipython3",
   "version": "3.7.6"
  }
 },
 "nbformat": 4,
 "nbformat_minor": 4
}
